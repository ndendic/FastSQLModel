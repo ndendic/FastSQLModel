{
 "cells": [
  {
   "cell_type": "code",
   "execution_count": null,
   "metadata": {},
   "outputs": [],
   "source": [
    "#| hide\n",
    "from FastSQLModel.db import *"
   ]
  },
  {
   "cell_type": "markdown",
   "metadata": {},
   "source": [
    "# FastSQLModel\n",
    "\n",
    "> Simplie and Fast utility for SQLModel/SQLAlchemy and Alembic\n"
   ]
  },
  {
   "cell_type": "markdown",
   "metadata": {},
   "source": [
    "## Overview\n",
    "\n",
    "FastSQLModel is a utility for simplifying the process of using SQLModel/SQLAlchemy and Alembic. It provides a CLI for initializing and managing Alembic migrations, and a set of tools for working with SQLModel and SQLAlchemy models.\n",
    "\n",
    "## Features\n",
    "\n",
    "- **CLI for Alembic**: FastSQLModel provides a CLI for initializing and managing Alembic migrations.\n",
    "- **SQLModel and SQLAlchemy Models**: FastSQLModel provides a set of tools for working with SQLModel and SQLAlchemy models.\n",
    "- **Database Management**: FastSQLModel provides a set of tools for managing the database, including creating, dropping, and querying the database.\n"
   ]
  },
  {
   "cell_type": "markdown",
   "metadata": {},
   "source": [
    "## Developer Guide"
   ]
  },
  {
   "cell_type": "markdown",
   "metadata": {},
   "source": [
    "### Install FastSQLModel in Development \n",
    "If you want to make changes to the package, you can install it in development mode.\n",
    "This project uses nbdev for development, so you can make changes to the code and documentation in the notebooks under the nbs/ directory.\n",
    "To find out more about amazing nbdev, visit the [nbdev documentation](https://nbdev.fast.ai/index.html).\n",
    "\n",
    "To make changes to the package, you can install it in development mode.\n",
    "```sh\n",
    "# make sure FastSQLModel package is installed in development mode\n",
    "$ pip install -e .\n",
    "\n",
    "# make changes under nbs/ directory\n",
    "# ...\n",
    "\n",
    "# compile to have changes apply to FastSQLModel\n",
    "$ nbdev_prepare\n",
    "```"
   ]
  },
  {
   "cell_type": "markdown",
   "metadata": {},
   "source": [
    "## Usage"
   ]
  },
  {
   "cell_type": "markdown",
   "metadata": {},
   "source": [
    "### Installation"
   ]
  },
  {
   "cell_type": "markdown",
   "metadata": {},
   "source": [
    "Install latest from the GitHub [repository][repo]:\n",
    "\n",
    "```sh\n",
    "$ pip install git+https://github.com/ndendic/FastSQLModel.git\n",
    "```\n",
    "\n",
    "or from [conda][conda]\n",
    "\n",
    "```sh\n",
    "$ conda install -c ndendic FastSQLModel\n",
    "```\n",
    "\n",
    "or from [pypi][pypi]\n",
    "\n",
    "\n",
    "```sh\n",
    "$ pip install FastSQLModel\n",
    "```\n",
    "\n",
    "\n",
    "[repo]: https://github.com/ndendic/FastSQLModel\n",
    "[docs]: https://ndendic.github.io/FastSQLModel/\n",
    "[pypi]: https://pypi.org/project/FastSQLModel/\n",
    "[conda]: https://anaconda.org/ndendic/FastSQLModel\n",
    "\n",
    "To establish a connection to the database, please specify the `DATABASE_URL` in the `.env` file."
   ]
  },
  {
   "cell_type": "markdown",
   "metadata": {},
   "source": [
    "### Documentation"
   ]
  },
  {
   "cell_type": "markdown",
   "metadata": {},
   "source": [
    "Documentation can be found hosted on this GitHub [repository][repo]'s [pages][docs]. Additionally you can find package manager specific guidelines on [conda][conda] and [pypi][pypi] respectively.\n",
    "\n",
    "[repo]: https://github.com/ndendic/FastSQLModel\n",
    "[docs]: https://ndendic.github.io/FastSQLModel/\n",
    "[pypi]: https://pypi.org/project/FastSQLModel/\n",
    "[conda]: https://anaconda.org/ndendic/FastSQLModel"
   ]
  },
  {
   "cell_type": "markdown",
   "metadata": {},
   "source": [
    "## How to use"
   ]
  },
  {
   "cell_type": "markdown",
   "metadata": {},
   "source": [
    "### Create your first model\n",
    "\n",
    "To create your first model, you can can import the BaseTable class from the FastSQLModel.db module and create a new model by subclassing it.\n",
    "BaseTable is a subclass of SQLModel, so it has all the same features, but it also has a few extra features to help with some standard db operations and 3 extra fields: \n",
    " - id: primary key, default to a uuid4\n",
    " - created_at: datetime, default to now\n",
    " - updated_at: datetime, default to now, and updated on every save\n",
    "\n",
    "```python\n",
    "class BaseTable(SQLModel):\n",
    "    model_config = ConfigDict(json_encoders={datetime: lambda dt: dt.isoformat()})\n",
    "    id: UUID = Field(default_factory=uuid4, primary_key=True)\n",
    "    created_at: datetime = Field(\n",
    "        default_factory=utc_now,\n",
    "        sa_type= sa.DateTime(timezone=True),\n",
    "        sa_column_kwargs={\"server_default\": sa.func.now()},\n",
    "        nullable=False,\n",
    "        title=\"Created At\",\n",
    "        schema_extra={\"icon\": \"clock\", \"input_type\": \"datetime\"},\n",
    "    )\n",
    "    updated_at: datetime = Field(\n",
    "        default_factory=utc_now,\n",
    "        sa_type=sa.DateTime(timezone=True),\n",
    "        sa_column_kwargs={\n",
    "            \"server_default\": sa.func.now(),\n",
    "            \"server_onupdate\": sa.func.now(),\n",
    "        },\n",
    "        # onupdate=utc_now,\n",
    "        nullable=False,\n",
    "        title=\"Updated At\",\n",
    "        schema_extra={\"icon\": \"clock\", \"input_type\": \"datetime\"},\n",
    "    )\n",
    "```\n",
    "\n"
   ]
  },
  {
   "cell_type": "markdown",
   "metadata": {},
   "source": [
    "Here is an example of how to create a new model using BaseTable\n",
    "\n",
    "```python\n",
    "# users.py\n",
    "from typing import Optional\n",
    "from sqlmodel import Field\n",
    "from datetime import datetime\n",
    "from FastSQLModel.db import BaseTable\n",
    "\n",
    "class User(BaseTable, table=True):\n",
    "    name: Optional[str] = Field(nullable=True)\n",
    "    email: str = Field(nullable=False)\n",
    "    password: str = Field(nullable=False)\n",
    "    joined_at: datetime = Field(nullable=False)\n",
    "```\n",
    "\n"
   ]
  },
  {
   "cell_type": "markdown",
   "metadata": {},
   "source": [
    "Now that you have created your first model, you can use the CLI to initialize and manage Alembic project.\n",
    "\n",
    "```sh\n",
    "$ fastmodel init\n",
    "```\n",
    "This will create a new Alembic project in the current directory, and create a new .alembic.ini file.\n",
    "\n",
    "2. Then make sure to add your models to the migrations/env.py file before running migrations.\n",
    "\n",
    "```python\n",
    "# migrations/env.py\n",
    "from users import User\n",
    "# ...\n",
    "```\n",
    "\n",
    "3. Now you can run migrations to prepare the database for your models.\n",
    "\n",
    "```sh\n",
    "$ fastmodel migrations\n",
    "```\n",
    "\n",
    "4. And now you can migrate your models to the database.\n",
    "\n",
    "```sh\n",
    "$ fastmodel migrate\n",
    "```\n"
   ]
  },
  {
   "cell_type": "markdown",
   "metadata": {},
   "source": [
    "Let's see how this works"
   ]
  },
  {
   "cell_type": "markdown",
   "metadata": {},
   "source": [
    "Initialization:"
   ]
  },
  {
   "cell_type": "code",
   "execution_count": null,
   "metadata": {},
   "outputs": [],
   "source": [
    "# !fastmodel init"
   ]
  },
  {
   "cell_type": "markdown",
   "metadata": {},
   "source": [
    "Making migrations"
   ]
  },
  {
   "cell_type": "code",
   "execution_count": null,
   "metadata": {},
   "outputs": [
    {
     "name": "stdout",
     "output_type": "stream",
     "text": [
      "Generating Alembic migration with message: Pushing changes\n",
      "DATABASE_URL sqlite:///test.db\n",
      "INFO  [alembic.runtime.migration] Context impl SQLiteImpl.\n",
      "INFO  [alembic.runtime.migration] Will assume non-transactional DDL.\n",
      "  Generating /home/ndendic/WebDev/FastSQLModel/nbs/migrations/versions/4d4567890\n",
      "  1bc_pushing_changes.py ...  done\n",
      "\u001b[32mMigration created successfully!\u001b[0m\n"
     ]
    }
   ],
   "source": [
    "!fastmodel migrations"
   ]
  },
  {
   "cell_type": "markdown",
   "metadata": {},
   "source": [
    "Migrating changes"
   ]
  },
  {
   "cell_type": "code",
   "execution_count": null,
   "metadata": {},
   "outputs": [
    {
     "name": "stdout",
     "output_type": "stream",
     "text": [
      "\u001b[33mApplying database migrations\u001b[0m\u001b[33m...\u001b[0m\n",
      "DATABASE_URL sqlite:///test.db\n",
      "INFO  [alembic.runtime.migration] Context impl SQLiteImpl.\n",
      "INFO  [alembic.runtime.migration] Will assume non-transactional DDL.\n",
      "INFO  [alembic.runtime.migration] Running upgrade 5441880ad0e3 -> 4d45678901bc, Pushing changes\n",
      "\u001b[32mMigrations applied successfully!\u001b[0m\n"
     ]
    }
   ],
   "source": [
    "!fastmodel migrate"
   ]
  },
  {
   "cell_type": "code",
   "execution_count": null,
   "metadata": {},
   "outputs": [],
   "source": [
    "#| hide\n",
    "from users import User\n",
    "from datetime import datetime"
   ]
  },
  {
   "cell_type": "markdown",
   "metadata": {},
   "source": [
    "Once our table is migrated, we can start adding some data like this."
   ]
  },
  {
   "cell_type": "code",
   "execution_count": null,
   "metadata": {},
   "outputs": [
    {
     "data": {
      "text/plain": [
       "{'name': 'Homer Simpson',\n",
       " 'email': 'homer@simpson.com',\n",
       " 'password': 'password',\n",
       " 'joined_at': datetime.datetime(2024, 12, 19, 16, 2, 4, 408489),\n",
       " 'id': UUID('f4ff6c91-8fcf-44a8-9874-cf2535a8d10c'),\n",
       " 'created_at': datetime.datetime(2024, 12, 19, 15, 2, 4, 413702, tzinfo=datetime.timezone.utc),\n",
       " 'updated_at': datetime.datetime(2024, 12, 19, 15, 2, 4, 413744, tzinfo=datetime.timezone.utc)}"
      ]
     },
     "execution_count": null,
     "metadata": {},
     "output_type": "execute_result"
    }
   ],
   "source": [
    "user = User(name=\"Homer Simpson\", email=\"homer@simpson.com\", password=\"password\", joined_at=datetime.now())\n",
    "user.save()\n",
    "user.model_dump()\n"
   ]
  },
  {
   "cell_type": "markdown",
   "metadata": {},
   "source": [
    "Let's get our user by id"
   ]
  },
  {
   "cell_type": "code",
   "execution_count": null,
   "metadata": {},
   "outputs": [
    {
     "name": "stdout",
     "output_type": "stream",
     "text": [
      "Name: Homer Simpson, Email: homer@simpson.com\n"
     ]
    }
   ],
   "source": [
    "homer = User.get(user.id)\n",
    "if homer:\n",
    "    print(f\"Name: {homer.name}, Email: {homer.email}\")\n",
    "else:\n",
    "    print(\"User not found\")\n"
   ]
  },
  {
   "cell_type": "markdown",
   "metadata": {},
   "source": [
    "Or by alternative key value"
   ]
  },
  {
   "cell_type": "code",
   "execution_count": null,
   "metadata": {},
   "outputs": [
    {
     "name": "stdout",
     "output_type": "stream",
     "text": [
      "Name: Homer Simpson, Email: homer@simpson.com\n"
     ]
    }
   ],
   "source": [
    "homer = User.get(\"homer@simpson.com\",alt_key=\"email\")\n",
    "if homer:\n",
    "    print(f\"Name: {homer.name}, Email: {homer.email}\")\n",
    "else:\n",
    "    print(\"User not found\")\n",
    "\n"
   ]
  },
  {
   "cell_type": "markdown",
   "metadata": {},
   "source": [
    "Now let's modify our record and save it back to our database and retreive back"
   ]
  },
  {
   "cell_type": "code",
   "execution_count": null,
   "metadata": {},
   "outputs": [
    {
     "data": {
      "text/plain": [
       "'homer.simpson@simpson.com'"
      ]
     },
     "execution_count": null,
     "metadata": {},
     "output_type": "execute_result"
    }
   ],
   "source": [
    "homer.email = \"homer.simpson@simpson.com\"\n",
    "homer.save()\n",
    "homer = User.get(\"homer.simpson@simpson.com\",alt_key=\"email\")\n",
    "homer.email\n"
   ]
  },
  {
   "cell_type": "markdown",
   "metadata": {},
   "source": [
    "Let's define a bit more Simprons, this time like this "
   ]
  },
  {
   "cell_type": "code",
   "execution_count": null,
   "metadata": {},
   "outputs": [
    {
     "data": {
      "text/plain": [
       "('Bart Simpson', 'bart@simpson.com')"
      ]
     },
     "execution_count": null,
     "metadata": {},
     "output_type": "execute_result"
    }
   ],
   "source": [
    "bart = User()\n",
    "bart.name = \"Bart Simpson\"\n",
    "bart.email = \"bart@simpson.com\"\n",
    "bart.password = \"password\"\n",
    "bart.joined_at = datetime.now()\n",
    "bart.save()\n",
    "\n",
    "bart.name, bart.email"
   ]
  },
  {
   "cell_type": "markdown",
   "metadata": {},
   "source": [
    "Let's retrive records in our table. We can simply do that by calling `all` function"
   ]
  },
  {
   "cell_type": "code",
   "execution_count": null,
   "metadata": {},
   "outputs": [
    {
     "data": {
      "text/plain": [
       "[User(email='homer.simpson@simpson.com', name='Homer Simpson', joined_at=datetime.datetime(2024, 12, 19, 16, 1, 27, 746940), id=UUID('e1d719e2-21a4-40c1-ab9b-062e0808f101'), updated_at=datetime.datetime(2024, 12, 19, 15, 1, 27, 870936), created_at=datetime.datetime(2024, 12, 19, 15, 1, 27, 783496), password='password'),\n",
       " User(email='bart@simpson.com', name='Bart Simpson', joined_at=datetime.datetime(2024, 12, 19, 16, 1, 27, 909419), id=UUID('7aa9cd07-59c4-4f34-8bdd-df9b05453efb'), updated_at=datetime.datetime(2024, 12, 19, 15, 1, 27, 914354), created_at=datetime.datetime(2024, 12, 19, 15, 1, 27, 914332), password='password'),\n",
       " User(email='homer.simpson@simpson.com', name='Homer Simpson', joined_at=datetime.datetime(2024, 12, 19, 16, 2, 4, 408489), id=UUID('f4ff6c91-8fcf-44a8-9874-cf2535a8d10c'), updated_at=datetime.datetime(2024, 12, 19, 15, 2, 4, 552857), created_at=datetime.datetime(2024, 12, 19, 15, 2, 4, 434347), password='password'),\n",
       " User(email='bart@simpson.com', name='Bart Simpson', joined_at=datetime.datetime(2024, 12, 19, 16, 2, 4, 602805), id=UUID('455cbf7d-b8f6-407a-8ae6-f80f814d9735'), updated_at=datetime.datetime(2024, 12, 19, 15, 2, 4, 606104), created_at=datetime.datetime(2024, 12, 19, 15, 2, 4, 606086), password='password')]"
      ]
     },
     "execution_count": null,
     "metadata": {},
     "output_type": "execute_result"
    }
   ],
   "source": [
    "User.all()"
   ]
  },
  {
   "cell_type": "markdown",
   "metadata": {},
   "source": [
    "Here we can see that we have forgot to set some `unique` values to our fields and prevent duplicates. So let's remove our duplicates manualy now"
   ]
  },
  {
   "cell_type": "markdown",
   "metadata": {},
   "source": [
    "First, we can use search to get all the records that contain some character in some of their string fields. This is usefull for filtering records where you're not sure where the value shuld match."
   ]
  },
  {
   "cell_type": "code",
   "execution_count": null,
   "metadata": {},
   "outputs": [
    {
     "name": "stdout",
     "output_type": "stream",
     "text": [
      "Name: Homer Simpson , Email: homer.simpson@simpson.com, ID: e1d719e2-21a4-40c1-ab9b-062e0808f101\n",
      "Name: Homer Simpson , Email: homer.simpson@simpson.com, ID: f4ff6c91-8fcf-44a8-9874-cf2535a8d10c\n"
     ]
    }
   ],
   "source": [
    "users = User.search(search_value=\"Homer\")\n",
    "for user in users:\n",
    "    print(f\"Name: {user.name} , Email: {user.email}, ID: {user.id}\")"
   ]
  },
  {
   "cell_type": "markdown",
   "metadata": {},
   "source": [
    "You can also set the fields you want to retreive from specific fields using `fields` argument. This will now not return the instance of the User rable but a list of tuples."
   ]
  },
  {
   "cell_type": "code",
   "execution_count": null,
   "metadata": {},
   "outputs": [
    {
     "data": {
      "text/plain": [
       "[('Bart Simpson', 'bart@simpson.com'),\n",
       " ('Bart Simpson', 'bart@simpson.com'),\n",
       " ('Homer Simpson', 'homer.simpson@simpson.com'),\n",
       " ('Homer Simpson', 'homer.simpson@simpson.com')]"
      ]
     },
     "execution_count": null,
     "metadata": {},
     "output_type": "execute_result"
    }
   ],
   "source": [
    "users = User.search(search_value=\"Simpson\", fields=['name','email'])\n",
    "users\n"
   ]
  },
  {
   "cell_type": "markdown",
   "metadata": {},
   "source": [
    "Now let's retreive our records again"
   ]
  },
  {
   "cell_type": "code",
   "execution_count": null,
   "metadata": {},
   "outputs": [
    {
     "data": {
      "text/plain": [
       "[User(email='bart@simpson.com', name='Bart Simpson', joined_at=datetime.datetime(2024, 12, 19, 16, 2, 4, 602805), id=UUID('455cbf7d-b8f6-407a-8ae6-f80f814d9735'), updated_at=datetime.datetime(2024, 12, 19, 15, 2, 4, 606104), created_at=datetime.datetime(2024, 12, 19, 15, 2, 4, 606086), password='password'),\n",
       " User(email='bart@simpson.com', name='Bart Simpson', joined_at=datetime.datetime(2024, 12, 19, 16, 1, 27, 909419), id=UUID('7aa9cd07-59c4-4f34-8bdd-df9b05453efb'), updated_at=datetime.datetime(2024, 12, 19, 15, 1, 27, 914354), created_at=datetime.datetime(2024, 12, 19, 15, 1, 27, 914332), password='password')]"
      ]
     },
     "execution_count": null,
     "metadata": {},
     "output_type": "execute_result"
    }
   ],
   "source": [
    "users = User.search(search_value=\"bart\")\n",
    "users"
   ]
  },
  {
   "cell_type": "markdown",
   "metadata": {},
   "source": [
    "..and remove the first two results using the `delete` function"
   ]
  },
  {
   "cell_type": "code",
   "execution_count": null,
   "metadata": {},
   "outputs": [
    {
     "name": "stdout",
     "output_type": "stream",
     "text": [
      "Homer Simpson\n",
      "Bart Simpson\n",
      "Homer Simpson\n"
     ]
    }
   ],
   "source": [
    "for user in users[:len(users)-1]:\n",
    "    user.delete()\n",
    "\n",
    "for user in User.all():\n",
    "    print(user.name)\n"
   ]
  },
  {
   "cell_type": "markdown",
   "metadata": {},
   "source": [
    "we also have the option to filter the records using `filter` function for a specific model field."
   ]
  },
  {
   "cell_type": "code",
   "execution_count": null,
   "metadata": {},
   "outputs": [
    {
     "data": {
      "text/plain": [
       "[User(email='homer.simpson@simpson.com', name='Homer Simpson', joined_at=datetime.datetime(2024, 12, 19, 16, 1, 27, 746940), id=UUID('e1d719e2-21a4-40c1-ab9b-062e0808f101'), updated_at=datetime.datetime(2024, 12, 19, 15, 1, 27, 870936), created_at=datetime.datetime(2024, 12, 19, 15, 1, 27, 783496), password='password'),\n",
       " User(email='homer.simpson@simpson.com', name='Homer Simpson', joined_at=datetime.datetime(2024, 12, 19, 16, 2, 4, 408489), id=UUID('f4ff6c91-8fcf-44a8-9874-cf2535a8d10c'), updated_at=datetime.datetime(2024, 12, 19, 15, 2, 4, 552857), created_at=datetime.datetime(2024, 12, 19, 15, 2, 4, 434347), password='password')]"
      ]
     },
     "execution_count": null,
     "metadata": {},
     "output_type": "execute_result"
    }
   ],
   "source": [
    "results = User.filter(name=\"Homer Simpson\")\n",
    "results\n"
   ]
  },
  {
   "cell_type": "code",
   "execution_count": null,
   "metadata": {},
   "outputs": [
    {
     "data": {
      "text/plain": [
       "[User(email='homer.simpson@simpson.com', name='Homer Simpson', joined_at=datetime.datetime(2024, 12, 19, 16, 1, 27, 746940), id=UUID('e1d719e2-21a4-40c1-ab9b-062e0808f101'), updated_at=datetime.datetime(2024, 12, 19, 15, 1, 27, 870936), created_at=datetime.datetime(2024, 12, 19, 15, 1, 27, 783496), password='password'),\n",
       " User(email='homer.simpson@simpson.com', name='Homer Simpson', joined_at=datetime.datetime(2024, 12, 19, 16, 2, 4, 408489), id=UUID('f4ff6c91-8fcf-44a8-9874-cf2535a8d10c'), updated_at=datetime.datetime(2024, 12, 19, 15, 2, 4, 552857), created_at=datetime.datetime(2024, 12, 19, 15, 2, 4, 434347), password='password')]"
      ]
     },
     "execution_count": null,
     "metadata": {},
     "output_type": "execute_result"
    }
   ],
   "source": [
    "results = User.filter(email=\"homer.simpson@simpson.com\")\n",
    "results"
   ]
  },
  {
   "cell_type": "markdown",
   "metadata": {},
   "source": [
    "Similar to `search`, `filter` can take the same argumants, like `fields`, `sorting_field` and other (for full list navigate to the db section)."
   ]
  },
  {
   "cell_type": "code",
   "execution_count": null,
   "metadata": {},
   "outputs": [
    {
     "data": {
      "text/plain": [
       "[]"
      ]
     },
     "execution_count": null,
     "metadata": {},
     "output_type": "execute_result"
    }
   ],
   "source": [
    "results = User.filter(name=\"Simp\",exact_match=False,fields=[\"name\",\"email\"])\n",
    "results"
   ]
  },
  {
   "cell_type": "markdown",
   "metadata": {},
   "source": [
    "We can also combine field filters."
   ]
  },
  {
   "cell_type": "code",
   "execution_count": null,
   "metadata": {},
   "outputs": [
    {
     "data": {
      "text/plain": [
       "[]"
      ]
     },
     "execution_count": null,
     "metadata": {},
     "output_type": "execute_result"
    }
   ],
   "source": [
    "results = User.filter(name=\"simp\",email=\"hom\",exact_match=False,fields=[\"name\",\"email\"])\n",
    "results"
   ]
  },
  {
   "cell_type": "markdown",
   "metadata": {},
   "source": [
    "For more deatails visit related docs for [SQLModel](https://sqlmodel.tiangolo.com/) and [Alembic](https://alembic.sqlalchemy.org/en/latest/)"
   ]
  }
 ],
 "metadata": {
  "kernelspec": {
   "display_name": "python3",
   "language": "python",
   "name": "python3"
  }
 },
 "nbformat": 4,
 "nbformat_minor": 4
}
