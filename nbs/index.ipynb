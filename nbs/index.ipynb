{
 "cells": [
  {
   "cell_type": "code",
   "execution_count": 5,
   "metadata": {},
   "outputs": [],
   "source": [
    "#| hide\n",
    "from fastsqlmodel.db import *"
   ]
  },
  {
   "cell_type": "markdown",
   "metadata": {},
   "source": [
    "# FastSQLModel\n",
    "\n",
    "> Simplie and Fast utility for SQLModel/SQLAlchemy and Alembic\n"
   ]
  },
  {
   "cell_type": "markdown",
   "metadata": {},
   "source": [
    "## Overview\n",
    "\n",
    "FastSQLModel is a utility for simplifying the process of using SQLModel/SQLAlchemy and Alembic. It provides a CLI for initializing and managing Alembic migrations, and a set of tools for working with SQLModel and SQLAlchemy models.\n",
    "\n",
    "## Features\n",
    "\n",
    "- **CLI for Alembic**: FastSQLModel provides a CLI for initializing and managing Alembic migrations.\n",
    "- **SQLModel and SQLAlchemy Models**: FastSQLModel provides a set of tools for working with SQLModel and SQLAlchemy models.\n",
    "- **Database Management**: FastSQLModel provides a set of tools for managing the database, including creating, dropping, and querying the database.\n"
   ]
  },
  {
   "cell_type": "markdown",
   "metadata": {},
   "source": [
    "## Developer Guide"
   ]
  },
  {
   "cell_type": "markdown",
   "metadata": {},
   "source": [
    "### Install FastSQLModel in Development \n",
    "If you want to make changes to the package, you can install it in development mode.\n",
    "This project uses nbdev for development, so you can make changes to the code and documentation in the notebooks under the nbs/ directory.\n",
    "To find out more about amazing nbdev, visit the [nbdev documentation](https://nbdev.fast.ai/index.html).\n",
    "\n",
    "To make changes to the package, you can install it in development mode.\n",
    "```sh\n",
    "# make sure FastSQLModel package is installed in development mode\n",
    "$ pip install -e .\n",
    "\n",
    "# make changes under nbs/ directory\n",
    "# ...\n",
    "\n",
    "# compile to have changes apply to FastSQLModel\n",
    "$ nbdev_prepare\n",
    "```"
   ]
  },
  {
   "cell_type": "markdown",
   "metadata": {},
   "source": [
    "## Usage"
   ]
  },
  {
   "cell_type": "markdown",
   "metadata": {},
   "source": [
    "### Installation"
   ]
  },
  {
   "cell_type": "markdown",
   "metadata": {},
   "source": [
    "Install latest from the GitHub [repository][repo]:\n",
    "\n",
    "```sh\n",
    "$ pip install git+https://github.com/ndendic/FastSQLModel.git\n",
    "```\n",
    "\n",
    "or from [conda][conda]\n",
    "\n",
    "```sh\n",
    "$ conda install -c ndendic FastSQLModel\n",
    "```\n",
    "\n",
    "or from [pypi][pypi]\n",
    "\n",
    "\n",
    "```sh\n",
    "$ pip install FastSQLModel\n",
    "```\n",
    "\n",
    "\n",
    "[repo]: https://github.com/ndendic/FastSQLModel\n",
    "[docs]: https://ndendic.github.io/FastSQLModel/\n",
    "[pypi]: https://pypi.org/project/FastSQLModel/\n",
    "[conda]: https://anaconda.org/ndendic/FastSQLModel\n",
    "\n",
    "To establish a connection to the database, please specify the `DATABASE_URL` in the `.env` file."
   ]
  },
  {
   "cell_type": "markdown",
   "metadata": {},
   "source": [
    "### Documentation"
   ]
  },
  {
   "cell_type": "markdown",
   "metadata": {},
   "source": [
    "Documentation can be found hosted on this GitHub [repository][repo]'s [pages][docs]. Additionally you can find package manager specific guidelines on [conda][conda] and [pypi][pypi] respectively.\n",
    "\n",
    "[repo]: https://github.com/ndendic/FastSQLModel\n",
    "[docs]: https://ndendic.github.io/FastSQLModel/\n",
    "[pypi]: https://pypi.org/project/FastSQLModel/\n",
    "[conda]: https://anaconda.org/ndendic/FastSQLModel"
   ]
  },
  {
   "cell_type": "markdown",
   "metadata": {},
   "source": [
    "## How to use"
   ]
  },
  {
   "cell_type": "markdown",
   "metadata": {},
   "source": [
    "### Create your first model\n",
    "\n",
    "To create your first model, you can can import the BaseTable class from the fastsqlmodel.db module and create a new model by subclassing it.\n",
    "BaseTable is a subclass of SQLModel, so it has all the same features, but it also has a few extra features to help with some standard db operations and 3 extra fields: \n",
    " - id: primary key, default to a uuid4\n",
    " - created_at: datetime, default to now\n",
    " - updated_at: datetime, default to now, and updated on every save\n",
    "\n",
    "```python\n",
    "class BaseTable(SQLModel):\n",
    "    model_config = ConfigDict(json_encoders={datetime: lambda dt: dt.isoformat()})\n",
    "    id: UUID = Field(default_factory=uuid4, primary_key=True)\n",
    "    created_at: datetime = Field(\n",
    "        default_factory=utc_now,\n",
    "        sa_type= sa.DateTime(timezone=True),\n",
    "        sa_column_kwargs={\"server_default\": sa.func.now()},\n",
    "        nullable=False,\n",
    "        title=\"Created At\",\n",
    "        schema_extra={\"icon\": \"clock\", \"input_type\": \"datetime\"},\n",
    "    )\n",
    "    updated_at: datetime = Field(\n",
    "        default_factory=utc_now,\n",
    "        sa_type=sa.DateTime(timezone=True),\n",
    "        sa_column_kwargs={\n",
    "            \"server_default\": sa.func.now(),\n",
    "            \"server_onupdate\": sa.func.now(),\n",
    "        },\n",
    "        # onupdate=utc_now,\n",
    "        nullable=False,\n",
    "        title=\"Updated At\",\n",
    "        schema_extra={\"icon\": \"clock\", \"input_type\": \"datetime\"},\n",
    "    )\n",
    "```\n",
    "\n"
   ]
  },
  {
   "cell_type": "markdown",
   "metadata": {},
   "source": [
    "Here is an example of how to create a new model using BaseTable\n",
    "\n",
    "```python\n",
    "# users.py\n",
    "from typing import Optional\n",
    "from sqlmodel import Field\n",
    "from datetime import datetime\n",
    "from fastsqlmodel.db import BaseTable\n",
    "\n",
    "class User(BaseTable, table=True):\n",
    "    name: Optional[str] = Field(nullable=True)\n",
    "    email: str = Field(nullable=False)\n",
    "    password: str = Field(nullable=False)\n",
    "    joined_at: datetime = Field(nullable=False)\n",
    "```\n",
    "\n"
   ]
  },
  {
   "cell_type": "markdown",
   "metadata": {},
   "source": [
    "Now that you have created your first model, you can use the CLI to initialize and manage Alembic project.\n",
    "\n",
    "```sh\n",
    "$ fastmodel init\n",
    "```\n",
    "This will create a new Alembic project in the current directory, and create a new .alembic.ini file.\n",
    "\n",
    "2. Then make sure to add your models to the migrations/env.py file before running migrations.\n",
    "\n",
    "```python\n",
    "# migrations/env.py\n",
    "from users import User\n",
    "# ...\n",
    "```\n",
    "\n",
    "3. Now you can run migrations to prepare the database for your models.\n",
    "\n",
    "```sh\n",
    "$ fastmodel migrations\n",
    "```\n",
    "\n",
    "4. And now you can migrate your models to the database.\n",
    "\n",
    "```sh\n",
    "$ fastmodel migrate\n",
    "```\n"
   ]
  },
  {
   "cell_type": "markdown",
   "metadata": {},
   "source": [
    "Let's see how this works"
   ]
  },
  {
   "cell_type": "code",
   "execution_count": 14,
   "metadata": {},
   "outputs": [
    {
     "name": "stdout",
     "output_type": "stream",
     "text": [
      "\u001b[32mSuccessfully initialized Alembic in migrations directory!\u001b[0m\n",
      "\u001b[33mPlease make sure to add your models to \u001b[0m\u001b[4;33mmigrations/env.py\u001b[0m\u001b[33m file before running \u001b[0m\n",
      "\u001b[33mmigrations!\u001b[0m\n"
     ]
    }
   ],
   "source": [
    "!fastmodel init"
   ]
  },
  {
   "cell_type": "code",
   "execution_count": 19,
   "metadata": {},
   "outputs": [
    {
     "name": "stdout",
     "output_type": "stream",
     "text": [
      "Generating Alembic migration with message: Pushing changes\n",
      "DATABASE_URL sqlite:///test.db\n",
      "INFO  [alembic.runtime.migration] Context impl SQLiteImpl.\n",
      "INFO  [alembic.runtime.migration] Will assume non-transactional DDL.\n",
      "INFO  [alembic.autogenerate.compare] Detected added table 'user'\n",
      "  Generating /home/ndendic/WebDev/FastSQLModel/nbs/migrations/versions/5289002d2\n",
      "  4df_pushing_changes.py ...  done\n",
      "\u001b[32mMigration created successfully!\u001b[0m\n"
     ]
    }
   ],
   "source": [
    "!fastmodel migrations"
   ]
  },
  {
   "cell_type": "code",
   "execution_count": 20,
   "metadata": {},
   "outputs": [
    {
     "name": "stdout",
     "output_type": "stream",
     "text": [
      "\u001b[33mApplying database migrations\u001b[0m\u001b[33m...\u001b[0m\n",
      "DATABASE_URL sqlite:///test.db\n",
      "INFO  [alembic.runtime.migration] Context impl SQLiteImpl.\n",
      "INFO  [alembic.runtime.migration] Will assume non-transactional DDL.\n",
      "INFO  [alembic.runtime.migration] Running upgrade a035a7116947 -> 5289002d24df, Pushing changes\n",
      "\u001b[32mMigrations applied successfully!\u001b[0m\n"
     ]
    }
   ],
   "source": [
    "!fastmodel migrate"
   ]
  },
  {
   "cell_type": "code",
   "execution_count": 1,
   "metadata": {},
   "outputs": [],
   "source": [
    "#| hide\n",
    "from users import User\n",
    "from datetime import datetime"
   ]
  },
  {
   "cell_type": "code",
   "execution_count": 3,
   "metadata": {},
   "outputs": [
    {
     "data": {
      "text/plain": [
       "{'name': 'Homer Simpson',\n",
       " 'email': 'homer@simpson.com',\n",
       " 'password': 'password',\n",
       " 'joined_at': datetime.datetime(2024, 12, 18, 14, 51, 33, 62687),\n",
       " 'id': UUID('10dc919b-c7de-4453-8a3a-63c4ffd7da4d'),\n",
       " 'created_at': datetime.datetime(2024, 12, 18, 13, 51, 33, 65307, tzinfo=datetime.timezone.utc),\n",
       " 'updated_at': datetime.datetime(2024, 12, 18, 13, 51, 33, 65334, tzinfo=datetime.timezone.utc)}"
      ]
     },
     "execution_count": 3,
     "metadata": {},
     "output_type": "execute_result"
    }
   ],
   "source": [
    "user = User(name=\"Homer Simpson\", email=\"homer@simpson.com\", password=\"password\", joined_at=datetime.now())\n",
    "user.save()\n",
    "user.model_dump()\n"
   ]
  },
  {
   "cell_type": "code",
   "execution_count": 8,
   "metadata": {},
   "outputs": [
    {
     "data": {
      "text/plain": [
       "('Homer Simpson', 'homer@simpson.com')"
      ]
     },
     "execution_count": 8,
     "metadata": {},
     "output_type": "execute_result"
    }
   ],
   "source": [
    "homer = User.get(id=\"10dc919b-c7de-4453-8a3a-63c4ffd7da4d\")\n",
    "homer.name, homer.email\n"
   ]
  },
  {
   "cell_type": "code",
   "execution_count": 7,
   "metadata": {},
   "outputs": [
    {
     "data": {
      "text/plain": [
       "'Homer Simpson'"
      ]
     },
     "execution_count": 7,
     "metadata": {},
     "output_type": "execute_result"
    }
   ],
   "source": [
    "homer = User.get(\"homer@simpson.com\",alt_key=\"email\")\n",
    "homer.name\n",
    "\n"
   ]
  },
  {
   "cell_type": "code",
   "execution_count": 10,
   "metadata": {},
   "outputs": [
    {
     "data": {
      "text/plain": [
       "'homer.simpson@simpson.com'"
      ]
     },
     "execution_count": 10,
     "metadata": {},
     "output_type": "execute_result"
    }
   ],
   "source": [
    "homer.email = \"homer.simpson@simpson.com\"\n",
    "homer.save()\n",
    "homer = User.get(\"homer.simpson@simpson.com\",alt_key=\"email\")\n",
    "homer.email\n"
   ]
  },
  {
   "cell_type": "code",
   "execution_count": 11,
   "metadata": {},
   "outputs": [
    {
     "data": {
      "text/plain": [
       "'Bart Simpson'"
      ]
     },
     "execution_count": 11,
     "metadata": {},
     "output_type": "execute_result"
    }
   ],
   "source": [
    "bart = User.get(\"bart@simpson.com\",alt_key=\"email\")\n",
    "bart.name\n",
    "\n"
   ]
  },
  {
   "cell_type": "code",
   "execution_count": 17,
   "metadata": {},
   "outputs": [
    {
     "data": {
      "text/plain": [
       "[User(id=UUID('3b04291b-347f-4edf-bcbe-20dc70f5df42'), updated_at=datetime.datetime(2024, 12, 18, 13, 40, 1, 620576), created_at=datetime.datetime(2024, 12, 18, 13, 40, 1, 620566), password='password', name='John Doe', email='john.doe@example.com', joined_at=datetime.datetime(2024, 12, 18, 14, 40, 1, 601127)),\n",
       " User(id=UUID('dea8e467-89dc-42f9-b623-821cf72c5ecd'), updated_at=datetime.datetime(2024, 12, 18, 13, 40, 41, 648055), created_at=datetime.datetime(2024, 12, 18, 13, 40, 41, 648046), password='password', name='John Doe', email='john.doe@example.com', joined_at=datetime.datetime(2024, 12, 18, 14, 40, 41, 637238)),\n",
       " User(id=UUID('c9c7ab75-9ffe-4688-8e81-2b8f0c03398a'), updated_at=datetime.datetime(2024, 12, 18, 13, 40, 45, 100049), created_at=datetime.datetime(2024, 12, 18, 13, 40, 45, 100034), password='password', name='John Doe', email='john.doe@example.com', joined_at=datetime.datetime(2024, 12, 18, 14, 40, 45, 89970)),\n",
       " User(id=UUID('0626af07-521a-49a9-bfda-1f78791909a0'), updated_at=datetime.datetime(2024, 12, 18, 13, 41, 55, 872051), created_at=datetime.datetime(2024, 12, 18, 13, 41, 55, 872034), password='password', name='John Doe', email='john.doe@example.com', joined_at=datetime.datetime(2024, 12, 18, 14, 41, 55, 861727)),\n",
       " User(id=UUID('420cc98d-9932-459d-b0e6-4a2f78ae8446'), updated_at=datetime.datetime(2024, 12, 18, 13, 46, 56, 424237), created_at=datetime.datetime(2024, 12, 18, 13, 46, 56, 424225), password='password', name='Bart Simpson', email='bart@simpson.com', joined_at=datetime.datetime(2024, 12, 18, 14, 46, 56, 412409)),\n",
       " User(id=UUID('10dc919b-c7de-4453-8a3a-63c4ffd7da4d'), updated_at=datetime.datetime(2024, 12, 18, 13, 54, 4, 230616), created_at=datetime.datetime(2024, 12, 18, 13, 51, 33, 76743), password='password', name='Homer Simpson', email='homer.simpson@simpson.com', joined_at=datetime.datetime(2024, 12, 18, 14, 51, 33, 62687))]"
      ]
     },
     "execution_count": 17,
     "metadata": {},
     "output_type": "execute_result"
    }
   ],
   "source": [
    "User.all()"
   ]
  },
  {
   "cell_type": "code",
   "execution_count": 2,
   "metadata": {},
   "outputs": [
    {
     "name": "stdout",
     "output_type": "stream",
     "text": [
      "Name: Homer Simpson , Email: homer.simpson@simpson.com, ID: 10dc919b-c7de-4453-8a3a-63c4ffd7da4d\n"
     ]
    },
    {
     "data": {
      "text/plain": [
       "[User(email='homer.simpson@simpson.com', name='Homer Simpson', joined_at=datetime.datetime(2024, 12, 18, 14, 51, 33, 62687), updated_at=datetime.datetime(2024, 12, 18, 13, 54, 4, 230616), id=UUID('10dc919b-c7de-4453-8a3a-63c4ffd7da4d'), created_at=datetime.datetime(2024, 12, 18, 13, 51, 33, 76743), password='password')]"
      ]
     },
     "execution_count": 2,
     "metadata": {},
     "output_type": "execute_result"
    }
   ],
   "source": [
    "users = User.search(search_value=\"Homer\")\n",
    "for user in users:\n",
    "    print(f\"Name: {user.name} , Email: {user.email}, ID: {user.id}\")\n",
    "users"
   ]
  },
  {
   "cell_type": "code",
   "execution_count": 3,
   "metadata": {},
   "outputs": [
    {
     "data": {
      "text/plain": [
       "[('Homer Simpson', 'homer.simpson@simpson.com'),\n",
       " ('Bart Simpson', 'bart@simpson.com')]"
      ]
     },
     "execution_count": 3,
     "metadata": {},
     "output_type": "execute_result"
    }
   ],
   "source": [
    "users = User.search(search_value=\"Simpson\", fields=['name','email'])\n",
    "users\n"
   ]
  },
  {
   "cell_type": "code",
   "execution_count": 3,
   "metadata": {},
   "outputs": [
    {
     "data": {
      "text/plain": [
       "[User(updated_at=datetime.datetime(2024, 12, 18, 13, 41, 55, 872051), id=UUID('0626af07-521a-49a9-bfda-1f78791909a0'), created_at=datetime.datetime(2024, 12, 18, 13, 41, 55, 872034), password='password', email='john.doe@example.com', name='John Doe', joined_at=datetime.datetime(2024, 12, 18, 14, 41, 55, 861727)),\n",
       " User(updated_at=datetime.datetime(2024, 12, 18, 13, 40, 1, 620576), id=UUID('3b04291b-347f-4edf-bcbe-20dc70f5df42'), created_at=datetime.datetime(2024, 12, 18, 13, 40, 1, 620566), password='password', email='john.doe@example.com', name='John Doe', joined_at=datetime.datetime(2024, 12, 18, 14, 40, 1, 601127)),\n",
       " User(updated_at=datetime.datetime(2024, 12, 18, 13, 40, 45, 100049), id=UUID('c9c7ab75-9ffe-4688-8e81-2b8f0c03398a'), created_at=datetime.datetime(2024, 12, 18, 13, 40, 45, 100034), password='password', email='john.doe@example.com', name='John Doe', joined_at=datetime.datetime(2024, 12, 18, 14, 40, 45, 89970)),\n",
       " User(updated_at=datetime.datetime(2024, 12, 18, 13, 40, 41, 648055), id=UUID('dea8e467-89dc-42f9-b623-821cf72c5ecd'), created_at=datetime.datetime(2024, 12, 18, 13, 40, 41, 648046), password='password', email='john.doe@example.com', name='John Doe', joined_at=datetime.datetime(2024, 12, 18, 14, 40, 41, 637238))]"
      ]
     },
     "execution_count": 3,
     "metadata": {},
     "output_type": "execute_result"
    }
   ],
   "source": [
    "users = User.search(search_value=\"john\")\n",
    "users"
   ]
  },
  {
   "cell_type": "code",
   "execution_count": 7,
   "metadata": {},
   "outputs": [
    {
     "name": "stdout",
     "output_type": "stream",
     "text": [
      "Bart Simpson\n",
      "Homer Simpson\n"
     ]
    }
   ],
   "source": [
    "for user in users:\n",
    "    user.delete()\n",
    "\n",
    "for user in User.all():\n",
    "    print(user.name)\n"
   ]
  },
  {
   "cell_type": "code",
   "execution_count": 2,
   "metadata": {},
   "outputs": [
    {
     "data": {
      "text/plain": [
       "[]"
      ]
     },
     "execution_count": 2,
     "metadata": {},
     "output_type": "execute_result"
    }
   ],
   "source": [
    "results = User.filter(name=\"Homer\",exact_match=False)\n",
    "results\n"
   ]
  }
 ],
 "metadata": {
  "kernelspec": {
   "display_name": "python3",
   "language": "python",
   "name": "python3"
  },
  "language_info": {
   "codemirror_mode": {
    "name": "ipython",
    "version": 3
   },
   "file_extension": ".py",
   "mimetype": "text/x-python",
   "name": "python",
   "nbconvert_exporter": "python",
   "pygments_lexer": "ipython3",
   "version": "3.12.7"
  }
 },
 "nbformat": 4,
 "nbformat_minor": 4
}
