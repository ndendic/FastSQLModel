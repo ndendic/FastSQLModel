{
 "cells": [
  {
   "cell_type": "markdown",
   "metadata": {},
   "source": [
    "# Database Services\n",
    "\n",
    "> Fill in a module description here"
   ]
  },
  {
   "cell_type": "code",
   "execution_count": null,
   "metadata": {},
   "outputs": [],
   "source": [
    "#| default_exp cli"
   ]
  },
  {
   "cell_type": "code",
   "execution_count": 1,
   "metadata": {},
   "outputs": [],
   "source": [
    "#| hide\n",
    "%load_ext jupyter_ai_magics\n",
    "from nbdev.showdoc import *"
   ]
  },
  {
   "cell_type": "code",
   "execution_count": 2,
   "metadata": {},
   "outputs": [],
   "source": [
    "#| export\n",
    "import typer\n",
    "from rich import print\n",
    "import subprocess"
   ]
  },
  {
   "cell_type": "code",
   "execution_count": 3,
   "metadata": {},
   "outputs": [],
   "source": [
    "#| export\n",
    "app = typer.Typer(name=\"FH Template Helper\")"
   ]
  },
  {
   "cell_type": "code",
   "execution_count": 4,
   "metadata": {},
   "outputs": [],
   "source": [
    "#| export\n",
    "@app.command()\n",
    "def init():\n",
    "    \"\"\"\n",
    "    Initialize the development environment using uv or venv.\n",
    "    \"\"\"\n",
    "    print(\"[yellow]Checking if uv is installed...[/yellow]\")\n",
    "    try:\n",
    "        # Check if uv is installed\n",
    "        subprocess.run([\"uv\", \"--version\"], check=True, capture_output=True)\n",
    "        print(\"[green]uv is installed. Creating new environment...[/green]\")\n",
    "        \n",
    "        # Create and activate environment using uv\n",
    "        subprocess.run([\"uv\", \"sync\"], check=True)\n",
    "        print(\"[green]Dependencies installed successfully![/green]\")\n",
    "        \n",
    "    except subprocess.CalledProcessError:\n",
    "        # If uv is not installed, offer choice\n",
    "        print(\"[yellow]uv is not installed. Would you like to:[/yellow]\")\n",
    "        print(\"1) Install uv (recommended)\")\n",
    "        print(\"2) Continue with standard venv\")\n",
    "        \n",
    "        choice = typer.prompt(\"Enter choice\", type=int, default=1)\n",
    "        \n",
    "        if choice == 1:\n",
    "            print(\"[yellow]Installing uv...[/yellow]\")\n",
    "            # Install uv using curl\n",
    "            subprocess.run(\n",
    "                [\"curl\", \"-LsSf\", \"https://astral.sh/uv/install.sh\"],\n",
    "                stdout=subprocess.PIPE,\n",
    "                check=True\n",
    "            )\n",
    "            subprocess.run([\"uv\", \"venv\", \".venv\"], check=True)\n",
    "            subprocess.run([\".venv/bin/uv\", \"pip\", \"install\", \"-e\", \".\"], check=True)\n",
    "        else:\n",
    "            print(\"[yellow]Creating standard venv environment...[/yellow]\")\n",
    "            subprocess.run([\"python\", \"-m\", \"venv\", \".venv\"], check=True)\n",
    "            subprocess.run([\".venv/bin/pip\", \"install\", \"-e\", \".\"], check=True)\n",
    "        \n",
    "        print(\"[green]Environment created and dependencies installed![/green]\")\n"
   ]
  },
  {
   "cell_type": "code",
   "execution_count": 6,
   "metadata": {},
   "outputs": [],
   "source": [
    "#| export\n",
    "@app.command()\n",
    "def migrations(message: str = typer.Option(\"Pushing changes\", help=\"Optional migration message\")):\n",
    "    \"\"\"\n",
    "    Automate Alembic migration generation.\n",
    "    \"\"\"\n",
    "    print(f\"Generating Alembic migration with message: {message}\")\n",
    "    try:\n",
    "        # alembic revision --autogenerate -m \"Pushing changes\"\n",
    "        subprocess.run([\"alembic\", \"revision\", \"--autogenerate\", \"-m\", message], check=True)\n",
    "        print(\"[green]Migration created successfully![/green]\")\n",
    "    except subprocess.CalledProcessError as e:\n",
    "        print(f\"[red]Error running Alembic: {e}[/red]\")\n"
   ]
  },
  {
   "cell_type": "code",
   "execution_count": 7,
   "metadata": {},
   "outputs": [],
   "source": [
    "#| export\n",
    "@app.command()\n",
    "def migrate():\n",
    "    \"\"\"\n",
    "    Apply all pending Alembic migrations.\n",
    "    \"\"\"\n",
    "    print(\"[yellow]Applying database migrations...[/yellow]\")\n",
    "    try:\n",
    "        subprocess.run([\"alembic\", \"upgrade\", \"head\"], check=True)\n",
    "        print(\"[green]Migrations applied successfully![/green]\")\n",
    "    except subprocess.CalledProcessError as e:\n",
    "        print(f\"[red]Error applying migrations: {e}[/red]\")\n"
   ]
  },
  {
   "cell_type": "code",
   "execution_count": 9,
   "metadata": {},
   "outputs": [
    {
     "data": {
      "text/html": [
       "<pre style=\"white-space:pre;overflow-x:auto;line-height:normal;font-family:Menlo,'DejaVu Sans Mono',consolas,'Courier New',monospace\"><span style=\"color: #808000; text-decoration-color: #808000\">Usage: </span>ipykernel_launcher.py [OPTIONS] COMMAND [ARGS]...\n",
       "</pre>\n"
      ],
      "text/plain": [
       "\u001b[33mUsage: \u001b[0mipykernel_launcher.py [OPTIONS] COMMAND [ARGS]...\n"
      ]
     },
     "metadata": {},
     "output_type": "display_data"
    },
    {
     "data": {
      "text/html": [
       "<pre style=\"white-space:pre;overflow-x:auto;line-height:normal;font-family:Menlo,'DejaVu Sans Mono',consolas,'Courier New',monospace\"><span style=\"color: #7f7f7f; text-decoration-color: #7f7f7f\">Try </span><span style=\"color: #7f7fbf; text-decoration-color: #7f7fbf\">'ipykernel_launcher.py </span><span style=\"color: #7f7fbf; text-decoration-color: #7f7fbf; font-weight: bold\">--help</span><span style=\"color: #7f7fbf; text-decoration-color: #7f7fbf\">'</span><span style=\"color: #7f7f7f; text-decoration-color: #7f7f7f\"> for help.</span>\n",
       "</pre>\n"
      ],
      "text/plain": [
       "\u001b[2mTry \u001b[0m\u001b[2;34m'ipykernel_launcher.py \u001b[0m\u001b[1;2;34m-\u001b[0m\u001b[1;2;34m-help\u001b[0m\u001b[2;34m'\u001b[0m\u001b[2m for help.\u001b[0m\n"
      ]
     },
     "metadata": {},
     "output_type": "display_data"
    },
    {
     "data": {
      "text/html": [
       "<pre style=\"white-space:pre;overflow-x:auto;line-height:normal;font-family:Menlo,'DejaVu Sans Mono',consolas,'Courier New',monospace\"><span style=\"color: #800000; text-decoration-color: #800000\">╭─ Error ─────────────────────────────────────────────────────────────────────────────────────────────────────────╮</span>\n",
       "<span style=\"color: #800000; text-decoration-color: #800000\">│</span> No such option: <span style=\"color: #008080; text-decoration-color: #008080; font-weight: bold\">--f</span>                                                                                             <span style=\"color: #800000; text-decoration-color: #800000\">│</span>\n",
       "<span style=\"color: #800000; text-decoration-color: #800000\">╰─────────────────────────────────────────────────────────────────────────────────────────────────────────────────╯</span>\n",
       "</pre>\n"
      ],
      "text/plain": [
       "\u001b[31m╭─\u001b[0m\u001b[31m Error \u001b[0m\u001b[31m────────────────────────────────────────────────────────────────────────────────────────────────────────\u001b[0m\u001b[31m─╮\u001b[0m\n",
       "\u001b[31m│\u001b[0m No such option: \u001b[1;36m-\u001b[0m\u001b[1;36m-f\u001b[0m                                                                                             \u001b[31m│\u001b[0m\n",
       "\u001b[31m╰─────────────────────────────────────────────────────────────────────────────────────────────────────────────────╯\u001b[0m\n"
      ]
     },
     "metadata": {},
     "output_type": "display_data"
    },
    {
     "ename": "SystemExit",
     "evalue": "2",
     "output_type": "error",
     "traceback": [
      "An exception has occurred, use %tb to see the full traceback.\n",
      "\u001b[0;31mSystemExit\u001b[0m\u001b[0;31m:\u001b[0m 2\n"
     ]
    }
   ],
   "source": [
    "#| export\n",
    "if __name__ == \"__main__\":\n",
    "    app()"
   ]
  },
  {
   "cell_type": "code",
   "execution_count": 10,
   "metadata": {},
   "outputs": [],
   "source": [
    "#| hide\n",
    "import nbdev; nbdev.nbdev_export()"
   ]
  }
 ],
 "metadata": {
  "kernelspec": {
   "display_name": "python3",
   "language": "python",
   "name": "python3"
  },
  "language_info": {
   "codemirror_mode": {
    "name": "ipython",
    "version": 3
   },
   "file_extension": ".py",
   "mimetype": "text/x-python",
   "name": "python",
   "nbconvert_exporter": "python",
   "pygments_lexer": "ipython3",
   "version": "3.12.7"
  }
 },
 "nbformat": 4,
 "nbformat_minor": 4
}
