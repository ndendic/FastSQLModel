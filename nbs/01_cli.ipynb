{
 "cells": [
  {
   "cell_type": "markdown",
   "metadata": {},
   "source": [
    "# fastmodel cli\n",
    "\n",
    "> FastSQLModel CLI for initializing and managing Alembic migrations"
   ]
  },
  {
   "cell_type": "code",
   "execution_count": null,
   "metadata": {},
   "outputs": [],
   "source": [
    "#| default_exp cli"
   ]
  },
  {
   "cell_type": "code",
   "execution_count": null,
   "metadata": {},
   "outputs": [
    {
     "name": "stdout",
     "output_type": "stream",
     "text": [
      "The jupyter_ai_magics extension is already loaded. To reload it, use:\n",
      "  %reload_ext jupyter_ai_magics\n"
     ]
    }
   ],
   "source": [
    "#| hide\n",
    "%load_ext jupyter_ai_magics\n",
    "from nbdev.showdoc import *"
   ]
  },
  {
   "cell_type": "code",
   "execution_count": null,
   "metadata": {},
   "outputs": [],
   "source": [
    "#| export\n",
    "import typer\n",
    "from rich import print\n",
    "import subprocess\n",
    "import os\n",
    "import shutil\n",
    "from pathlib import Path\n",
    "from mako.template import Template"
   ]
  },
  {
   "cell_type": "code",
   "execution_count": null,
   "metadata": {},
   "outputs": [
    {
     "data": {
      "text/html": [
       "<pre style=\"white-space:pre;overflow-x:auto;line-height:normal;font-family:Menlo,'DejaVu Sans Mono',consolas,'Courier New',monospace\">DATABASE_URL sqlite:<span style=\"color: #800080; text-decoration-color: #800080\">///</span><span style=\"color: #ff00ff; text-decoration-color: #ff00ff\">test.db</span>\n",
       "</pre>\n"
      ],
      "text/plain": [
       "DATABASE_URL sqlite:\u001b[35m/\u001b[0m\u001b[35m/\u001b[0m\u001b[35m/\u001b[0m\u001b[95mtest.db\u001b[0m\n"
      ]
     },
     "metadata": {},
     "output_type": "display_data"
    }
   ],
   "source": [
    "#| hide\n",
    "print(\"DATABASE_URL\", os.getenv(\"DATABASE_URL\"))"
   ]
  },
  {
   "cell_type": "code",
   "execution_count": null,
   "metadata": {},
   "outputs": [],
   "source": [
    "#| export\n",
    "app = typer.Typer(name=\"FastSQLModel\")"
   ]
  },
  {
   "cell_type": "markdown",
   "metadata": {},
   "source": [
    "### Helper function to process templates during initialization"
   ]
  },
  {
   "cell_type": "code",
   "execution_count": null,
   "metadata": {},
   "outputs": [],
   "source": [
    "#| export\n",
    "def process_templates(template_dir: Path, target_dir: Path, script_location: str):\n",
    "    \"\"\"Process and copy template files with proper configuration\"\"\"\n",
    "    # Create versions directory\n",
    "    versions_dir = target_dir / 'versions'\n",
    "    versions_dir.mkdir(exist_ok=True)\n",
    "    \n",
    "    # Copy static files to migrations directory\n",
    "    for file_name in ['env.py', 'README', 'script.py.mako']:\n",
    "        src = template_dir / file_name\n",
    "        if src.exists():\n",
    "            shutil.copy2(src, target_dir / file_name)\n",
    "    \n",
    "    # Process alembic.ini.mako and place it in the root directory\n",
    "    template = Template(filename=str(template_dir / 'alembic.ini.mako'))\n",
    "    config_content = template.render(script_location=script_location)\n",
    "    \n",
    "    \n",
    "    # Write alembic.ini to the parent directory of migrations\n",
    "    with open(target_dir.parent / 'alembic.ini', 'w') as f:\n",
    "        f.write(config_content)"
   ]
  },
  {
   "cell_type": "markdown",
   "metadata": {},
   "source": [
    "### Initialize Alembic with custom FastSQLModel templates"
   ]
  },
  {
   "cell_type": "code",
   "execution_count": null,
   "metadata": {},
   "outputs": [],
   "source": [
    "#| export\n",
    "@app.command(help=\"Initialize Alembic with custom FastSQLModel templates\")\n",
    "def init(\n",
    "    directory: str = typer.Option(\n",
    "        \".\", \n",
    "        \"--directory\", \"-d\",\n",
    "        help=\"Directory where to initialize Alembic (default: current directory)\",\n",
    "    )\n",
    "):\n",
    "    \"\"\"\n",
    "    Initialize a new Alembic environment with FastSQLModel templates.\n",
    "    \n",
    "    This will create:\n",
    "    - alembic.ini in the root directory\n",
    "    - migrations/ directory with:\n",
    "        - env.py\n",
    "        - README\n",
    "        - script.py.mako\n",
    "        - versions/ directory\n",
    "    \"\"\"\n",
    "    try:\n",
    "        # Get the template directory path relative to the cli.py file\n",
    "        template_dir = Path(__file__).parent / 'templates'\n",
    "        \n",
    "        # Create migrations directory\n",
    "        migrations_dir = Path(directory) / 'migrations'\n",
    "        migrations_dir.mkdir(exist_ok=True)\n",
    "        \n",
    "        # Create versions directory\n",
    "        versions_dir = migrations_dir / 'versions'\n",
    "        versions_dir.mkdir(exist_ok=True)\n",
    "        \n",
    "        # Process and copy template files\n",
    "        process_templates(\n",
    "            template_dir=template_dir,\n",
    "            target_dir=migrations_dir,\n",
    "            script_location='migrations'\n",
    "        )\n",
    "        \n",
    "        print(\"[green]Successfully initialized Alembic in migrations directory![/green]\")\n",
    "        print(\"[yellow]Please make sure to add your models to [underline]migrations/env.py[/underline] file before running migrations![/yellow]\")\n",
    "        \n",
    "    except Exception as e:\n",
    "        print(f\"[red]Error initializing Alembic: {str(e)}[/red]\")"
   ]
  },
  {
   "cell_type": "markdown",
   "metadata": {},
   "source": [
    "### Generate new Alembic migration"
   ]
  },
  {
   "cell_type": "code",
   "execution_count": null,
   "metadata": {},
   "outputs": [],
   "source": [
    "#| export\n",
    "@app.command(help=\"Generate new Alembic migration\")\n",
    "def migrations(\n",
    "    message: str = typer.Option(\n",
    "        \"Pushing changes\",\n",
    "        \"--message\", \"-m\",\n",
    "        help=\"Migration message/description\",\n",
    "    ),\n",
    "    autogenerate: bool = typer.Option(\n",
    "        True,\n",
    "        \"--autogenerate/--no-autogenerate\",\n",
    "        help=\"Automatically generate migrations based on model changes\",\n",
    "    )\n",
    "):\n",
    "    \"\"\"\n",
    "    Generate a new Alembic migration file.\n",
    "    \n",
    "    Examples:\n",
    "        fsm migrations -m \"Add user table\"\n",
    "        fsm migrations --no-autogenerate -m \"Custom migration\"\n",
    "    \"\"\"\n",
    "    print(f\"Generating Alembic migration with message: {message}\")\n",
    "    try:\n",
    "        cmd = [\"alembic\", \"revision\"]\n",
    "        if autogenerate:\n",
    "            cmd.append(\"--autogenerate\")\n",
    "        cmd.extend([\"-m\", message])\n",
    "        subprocess.run(cmd, check=True)\n",
    "        print(\"[green]Migration created successfully![/green]\")\n",
    "    except subprocess.CalledProcessError as e:\n",
    "        print(f\"[red]Error running Alembic: {e}[/red]\")\n"
   ]
  },
  {
   "cell_type": "markdown",
   "metadata": {},
   "source": [
    "### Apply pending Alembic migrations\n"
   ]
  },
  {
   "cell_type": "code",
   "execution_count": null,
   "metadata": {},
   "outputs": [],
   "source": [
    "#| export\n",
    "@app.command(help=\"Apply pending Alembic migrations\")\n",
    "def migrate(\n",
    "    revision: str = typer.Option(\n",
    "        \"head\",\n",
    "        \"--revision\", \"-r\",\n",
    "        help=\"Revision to upgrade to (default: head)\",\n",
    "    )\n",
    "):\n",
    "    \"\"\"\n",
    "    Apply all pending database migrations.\n",
    "    \n",
    "    Examples:\n",
    "        fsm migrate           # Upgrade to latest version\n",
    "        fsm migrate -r +1     # Upgrade one revision\n",
    "        fsm migrate -r -1     # Downgrade one revision\n",
    "        fsm migrate -r base   # Downgrade all migrations\n",
    "    \"\"\"\n",
    "    print(\"[yellow]Applying database migrations...[/yellow]\")\n",
    "    try:\n",
    "        subprocess.run([\"alembic\", \"upgrade\", revision], check=True)\n",
    "        print(\"[green]Migrations applied successfully![/green]\")\n",
    "    except subprocess.CalledProcessError as e:\n",
    "        print(f\"[red]Error applying migrations: {e}[/red]\")\n"
   ]
  },
  {
   "cell_type": "code",
   "execution_count": null,
   "metadata": {},
   "outputs": [],
   "source": [
    "#| hide\n",
    "#| export\n",
    "from IPython import get_ipython\n",
    "import sys\n",
    "\n",
    "def in_notebook():\n",
    "    \"\"\"Check if the code is running in a Jupyter notebook\"\"\"\n",
    "    try:\n",
    "        shell = get_ipython().__class__.__name__\n",
    "        if shell == 'ZMQInteractiveShell':  # Jupyter notebook or qtconsole\n",
    "            return True\n",
    "        elif shell == 'TerminalInteractiveShell':  # Terminal IPython\n",
    "            return False\n",
    "        else:\n",
    "            return False\n",
    "    except NameError:  # Probably standard Python interpreter\n",
    "        return False\n",
    "\n",
    "# Only run the CLI if this is being run as a script and not during import\n",
    "if __name__ == \"__main__\" and not in_notebook() and sys.argv[0].endswith('cli.py'):\n",
    "    app(prog_name=\"FastSQLModel\")"
   ]
  },
  {
   "cell_type": "code",
   "execution_count": null,
   "metadata": {},
   "outputs": [],
   "source": [
    "#| hide\n",
    "import nbdev; nbdev.nbdev_export()"
   ]
  }
 ],
 "metadata": {
  "kernelspec": {
   "display_name": "python3",
   "language": "python",
   "name": "python3"
  }
 },
 "nbformat": 4,
 "nbformat_minor": 4
}
